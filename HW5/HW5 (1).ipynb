{
  "nbformat": 4,
  "nbformat_minor": 0,
  "metadata": {
    "colab": {
      "name": "HW5.ipynb",
      "provenance": [],
      "collapsed_sections": []
    },
    "kernelspec": {
      "name": "python3",
      "display_name": "Python 3"
    },
    "language_info": {
      "name": "python"
    },
    "accelerator": "GPU"
  },
  "cells": [
    {
      "cell_type": "markdown",
      "metadata": {
        "id": "CqWzS3xctU_G"
      },
      "source": [
        "## 1. Fashion-MNIST Classification"
      ]
    },
    {
      "cell_type": "code",
      "metadata": {
        "id": "1bqY0T-ZYPqy"
      },
      "source": [
        "import numpy as np\n",
        "import pandas as pd\n",
        "import matplotlib.pyplot as plt\n",
        "\n",
        "import torch\n",
        "import torch.nn as nn\n",
        "from torch.autograd import Variable\n",
        "\n",
        "import torchvision\n",
        "import torchvision.transforms as transforms\n",
        "from torch.utils.data import Dataset, DataLoader\n",
        "from sklearn.metrics import confusion_matrix\n",
        "\n",
        "device = torch.device(\"cuda:0\" if torch.cuda.is_available() else \"cpu\")\n",
        "train_csv = pd.read_csv(\"/content/sample_data/fashion-mnist_train.csv\")\n",
        "test_csv = pd.read_csv(\"/content/sample_data/fashion-mnist_test.csv\")\n",
        "\n",
        "class FashionDataset(Dataset):\n",
        "    def __init__(self, data, transform = None): \n",
        "        self.fashion_MNIST = list(data.values)\n",
        "        self.transform = transform\n",
        "        label = []\n",
        "        image = []\n",
        "        for i in self.fashion_MNIST:\n",
        "            label.append(i[0])\n",
        "            image.append(i[1:])\n",
        "        self.labels = np.asarray(label)\n",
        "        self.images = np.asarray(image).reshape(-1, 28, 28, 1).astype('float32')\n",
        "    def __getitem__(self, index):\n",
        "        label = self.labels[index]\n",
        "        image = self.images[index]\n",
        "        if self.transform is not None:\n",
        "            image = self.transform(image)\n",
        "        return image, label\n",
        "    def __len__(self):\n",
        "        return len(self.images)\n",
        "\n",
        "train_set = FashionDataset(train_csv, transform=transforms.Compose([transforms.ToTensor()]))\n",
        "test_set = FashionDataset(test_csv, transform=transforms.Compose([transforms.ToTensor()]))\n",
        "\n",
        "train_loader = DataLoader(train_set, batch_size=100)\n",
        "test_loader = DataLoader(train_set, batch_size=100)\n",
        "\n",
        "#10 classes\n",
        "def output_label(label):\n",
        "    output_mapping = {\n",
        "                 0: \"T-shirt/Top\",\n",
        "                 1: \"Trouser\",\n",
        "                 2: \"Pullover\",\n",
        "                 3: \"Dress\",\n",
        "                 4: \"Coat\", \n",
        "                 5: \"Sandal\", \n",
        "                 6: \"Shirt\",\n",
        "                 7: \"Sneaker\",\n",
        "                 8: \"Bag\",\n",
        "                 9: \"Ankle Boot\"\n",
        "                 }\n",
        "    input = (label.item() if type(label) == torch.Tensor else label)\n",
        "    return output_mapping[input]\n",
        "\n",
        "a = next(iter(train_loader))\n",
        "a[0].size()\n",
        "image, label = next(iter(train_set))\n",
        "demo_loader = torch.utils.data.DataLoader(train_set, batch_size=10)\n",
        "batch = next(iter(demo_loader))\n",
        "images, labels = batch\n",
        "grid = torchvision.utils.make_grid(images, nrow=10)"
      ],
      "execution_count": null,
      "outputs": []
    },
    {
      "cell_type": "code",
      "metadata": {
        "id": "BMqQyIemZB0e"
      },
      "source": [
        "class FashionCNN(nn.Module):\n",
        "    \n",
        "    def __init__(self):\n",
        "        super(FashionCNN, self).__init__()\n",
        "        \n",
        "        self.layer1 = nn.Sequential(\n",
        "            nn.Conv2d(in_channels=1, out_channels=32, kernel_size=3, padding=1),\n",
        "            nn.BatchNorm2d(32),\n",
        "            nn.ReLU(),\n",
        "            nn.MaxPool2d(kernel_size=2, stride=2)\n",
        "        )\n",
        "        \n",
        "        self.layer2 = nn.Sequential(\n",
        "            nn.Conv2d(in_channels=32, out_channels=64, kernel_size=3),\n",
        "            nn.BatchNorm2d(64),\n",
        "            nn.ReLU(),\n",
        "            nn.MaxPool2d(2)\n",
        "        )\n",
        "        \n",
        "        self.fc1 = nn.Linear(in_features=64*6*6, out_features=600)\n",
        "        self.drop = nn.Dropout2d(0.25)\n",
        "        self.fc2 = nn.Linear(in_features=600, out_features=120)\n",
        "        self.fc3 = nn.Linear(in_features=120, out_features=10)\n",
        "        \n",
        "    def forward(self, x):\n",
        "        out = self.layer1(x)\n",
        "        out = self.layer2(out)\n",
        "        out = out.view(out.size(0), -1)\n",
        "        out = self.fc1(out)\n",
        "        out = self.drop(out)\n",
        "        out = self.fc2(out)\n",
        "        out = self.fc3(out)\n",
        "        return out\n",
        "\n",
        "model = FashionCNN()\n",
        "model.to(device)\n",
        "\n",
        "error = nn.CrossEntropyLoss()\n",
        "\n",
        "learning_rate = 0.001\n",
        "optimizer = torch.optim.Adam(model.parameters(), lr=learning_rate)"
      ],
      "execution_count": null,
      "outputs": []
    },
    {
      "cell_type": "code",
      "metadata": {
        "colab": {
          "base_uri": "https://localhost:8080/"
        },
        "id": "0D1LuTEtZLYN",
        "outputId": "a152350f-9965-451d-f5b8-d31a6a9e0353"
      },
      "source": [
        "num_epochs = 5\n",
        "count = 0\n",
        "# Lists for visualization of loss and accuracy \n",
        "loss_list = []\n",
        "iteration_list = []\n",
        "accuracy_list = []\n",
        "\n",
        "# Lists for knowing classwise accuracy\n",
        "predictions_list = []\n",
        "labels_list = []\n",
        "\n",
        "for epoch in range(num_epochs):\n",
        "    for images, labels in train_loader:\n",
        "        images, labels = images.to(device), labels.to(device)\n",
        "        train = Variable(images.view(100, 1, 28, 28))\n",
        "        labels = Variable(labels)\n",
        "        outputs = model(train)\n",
        "        loss = error(outputs, labels)\n",
        "        optimizer.zero_grad()\n",
        "        loss.backward()\n",
        "        optimizer.step()\n",
        "        count += 1\n",
        "    \n",
        "        if not (count % 50):\n",
        "            total = 0\n",
        "            correct = 0\n",
        "            for images, labels in test_loader:\n",
        "                images, labels = images.to(device), labels.to(device)\n",
        "                labels_list.append(labels)\n",
        "                test = Variable(images.view(100, 1, 28, 28))\n",
        "                outputs = model(test)\n",
        "                predictions = torch.max(outputs, 1)[1].to(device)\n",
        "                predictions_list.append(predictions)\n",
        "                correct += (predictions == labels).sum()\n",
        "                total += len(labels)\n",
        "            accuracy = correct * 100 / total\n",
        "            loss_list.append(loss.data)\n",
        "            iteration_list.append(count)\n",
        "            accuracy_list.append(accuracy)\n",
        "        \n",
        "        if not (count % 500):\n",
        "            print(\"Iteration: {}, Loss: {}, Accuracy: {}%\".format(count, loss.data, accuracy))\n",
        "\n",
        "plt.plot(iteration_list, loss_list)\n",
        "plt.xlabel(\"No. of Iteration\")\n",
        "plt.ylabel(\"Loss\")\n",
        "plt.title(\"Iterations vs Loss\")\n",
        "plt.show()\n",
        "\n",
        "plt.plot(iteration_list, accuracy_list)\n",
        "plt.xlabel(\"No. of Iteration\")\n",
        "plt.ylabel(\"Accuracy\")\n",
        "plt.title(\"Iterations vs Accuracy\")\n",
        "plt.show()"
      ],
      "execution_count": null,
      "outputs": [
        {
          "output_type": "stream",
          "name": "stdout",
          "text": [
            "Iteration: 500, Loss: 0.4552304446697235, Accuracy: 86.69499969482422%\n",
            "Iteration: 1000, Loss: 0.30381983518600464, Accuracy: 90.57333374023438%\n",
            "Iteration: 1500, Loss: 0.21417425572872162, Accuracy: 90.46499633789062%\n",
            "Iteration: 2000, Loss: 0.2462569773197174, Accuracy: 91.36333465576172%\n",
            "Iteration: 2500, Loss: 0.25830361247062683, Accuracy: 92.18000030517578%\n",
            "Iteration: 3000, Loss: 0.1796366572380066, Accuracy: 93.8933334350586%\n"
          ]
        },
        {
          "output_type": "display_data",
          "data": {
            "image/png": "[encoded data removed]",
            "text/plain": [
              "<Figure size 432x288 with 1 Axes>"
            ]
          },
          "metadata": {
            "needs_background": "light"
          }
        },
        {
          "output_type": "display_data",
          "data": {
            "image/png": "[encoded data removed]",
            "text/plain": [
              "<Figure size 432x288 with 1 Axes>"
            ]
          },
          "metadata": {
            "needs_background": "light"
          }
        }
      ]
    },
    {
      "cell_type": "markdown",
      "metadata": {
        "id": "0OxNPh_-to2K"
      },
      "source": [
        "## 2. Activation Visualization"
      ]
    },
    {
      "cell_type": "code",
      "metadata": {
        "colab": {
          "base_uri": "https://localhost:8080/",
          "height": 615
        },
        "id": "fbtheE-gR-kJ",
        "outputId": "5bba5118-05d3-49a6-bd0e-aedb3930b881"
      },
      "source": [
        "import numpy as np\n",
        "import matplotlib.pyplot as plt\n",
        "from tqdm import tqdm # Displays a progress bar\n",
        "\n",
        "import torch\n",
        "from torch import nn\n",
        "from torch import optim, Tensor\n",
        "import torch.nn.functional as F\n",
        "from torchvision import datasets, transforms\n",
        "from torch.utils.data import Dataset, Subset, DataLoader, random_split\n",
        "from PIL import Image\n",
        "import os\n",
        "os.environ[\"KMP_DUPLICATE_LIB_OK\"]=\"TRUE\"\n",
        "\n",
        "\n",
        "MNIST_transform = transforms.Compose([\n",
        "    transforms.ToTensor(),\n",
        "    transforms.Normalize([0.1307], [0.3081])\n",
        "])\n",
        "MNIST_train = datasets.MNIST('.', download=True, train = True, transform=MNIST_transform)\n",
        "MNIST_test = datasets.MNIST('.', download=True, train = False, transform=MNIST_transform)\n",
        "FASHION_transform = transforms.Compose([\n",
        "    transforms.ToTensor(),\n",
        "    transforms.Normalize([0.2859], [0.3530])\n",
        "])\n",
        "FASHION_train = datasets.FashionMNIST('.', download=True, train=True, transform=MNIST_transform)\n",
        "FASHION_test = datasets.FashionMNIST('.', download=True, train=False, transform=FASHION_transform)\n",
        "\n",
        "class GridDataset(Dataset):\n",
        "    def __init__(self, MNIST_dataset, FASHION_dataset): # pass in dataset\n",
        "        assert len(MNIST_dataset) == len(FASHION_dataset)\n",
        "        self.MNIST_dataset, self.FASHION_dataset = MNIST_dataset, FASHION_dataset\n",
        "        self.targets = FASHION_dataset.targets\n",
        "        torch.manual_seed(442) # Fix random seed for reproducibility\n",
        "        N = len(MNIST_dataset)\n",
        "        self.randpos = torch.randint(low=0,high=4,size=(N,)) # position of the FASHION-MNIST image\n",
        "        self.randidx = torch.randint(low=0,high=N,size=(N,3)) # indices of MNIST images\n",
        "    \n",
        "    def __len__(self):\n",
        "        return len(self.MNIST_dataset)\n",
        "    \n",
        "    def __getitem__(self,idx): # Get one Fashion-MNIST image and three MNIST images to make a new image\n",
        "        idx1, idx2, idx3 = self.randidx[idx]\n",
        "        x = self.randpos[idx]%2\n",
        "        y = self.randpos[idx]//2\n",
        "        p1 = self.FASHION_dataset.__getitem__(idx)[0]\n",
        "        p2 = self.MNIST_dataset.__getitem__(idx1)[0]\n",
        "        p3 = self.MNIST_dataset.__getitem__(idx2)[0]\n",
        "        p4 = self.MNIST_dataset.__getitem__(idx3)[0]\n",
        "        combo = torch.cat((torch.cat((p1,p2),2),torch.cat((p3,p4),2)),1)\n",
        "        combo = torch.roll(combo, (x*28,y*28), dims=(0,1))\n",
        "        return (combo,self.targets[idx])\n",
        "trainset = GridDataset(MNIST_train, FASHION_train)\n",
        "testset = GridDataset(MNIST_test, FASHION_test)\n",
        "\n",
        "class PrintLayer(nn.Module):\n",
        "    def __init__(self):\n",
        "        super(PrintLayer, self).__init__()\n",
        "    \n",
        "    def forward(self, x):\n",
        "        # print(x.shape)\n",
        "        return x\n",
        "\n",
        "\n",
        "class Network(nn.Module):\n",
        "    def __init__(self):\n",
        "        super().__init__()\n",
        "        # TODO: Design your own base module, define layers here\n",
        "        self.base = nn.Sequential(\n",
        "            # nn.Conv2d(1,32,5,1,2),\n",
        "            # nn.ReLU(),\n",
        "            PrintLayer(),\n",
        "            nn.Conv2d(1, 32, 3, stride=1, padding=1),\n",
        "            PrintLayer(),\n",
        "            nn.ReLU(inplace=True),\n",
        "            nn.Conv2d(32, 32, 3, stride=1, padding=1),\n",
        "            PrintLayer(),\n",
        "            nn.ReLU(inplace=True),\n",
        "            #2\n",
        "            nn.MaxPool2d(2, stride=2),\n",
        "            #3\n",
        "            nn.Conv2d(32,64, 3, stride=1, padding=1),\n",
        "            nn.Conv2d(64, 64, 3, stride=1, padding=1),\n",
        "            PrintLayer(),\n",
        "            nn.ReLU(inplace=True),\n",
        "            nn.Conv2d(64, 128, 3, stride=1, padding=1),\n",
        "            PrintLayer(),\n",
        "            nn.ReLU(inplace=True),\n",
        "            nn.MaxPool2d(2, stride=2),\n",
        "            PrintLayer(),\n",
        "            #5\n",
        "            nn.Conv2d(128, 128, 3, stride=1, padding=1),\n",
        "            nn.Conv2d(128, 128, 3, stride=1, padding=1),\n",
        "\n",
        "        )\n",
        "        out_channel = 128 # TODO: Put the output channel number of your base module here\n",
        "        self.avgpool = nn.AdaptiveAvgPool2d(1)\n",
        "        self.fc = nn.Linear(out_channel,10)\n",
        "        self.conv = nn.Conv2d(out_channel,10,1) # 1x1 conv layer (substitutes fc)\n",
        "\n",
        "    def transfer(self): # Copy weights of fc layer into 1x1 conv layer\n",
        "        self.conv.weight = nn.Parameter(self.fc.weight.unsqueeze(2).unsqueeze(3))\n",
        "        self.conv.bias = nn.Parameter(self.fc.bias)\n",
        "\n",
        "    def visualize(self,x):\n",
        "        x = self.base(x)\n",
        "        x = self.conv(x)\n",
        "        return x\n",
        "        \n",
        "    def forward(self,x):\n",
        "        x = self.base(x)\n",
        "        x = self.avgpool(x)\n",
        "        x = x.view(x.size(0),-1)\n",
        "        x = self.fc(x)\n",
        "        return x\n",
        "    \n",
        "device = \"cuda\" if torch.cuda.is_available() else \"cpu\"\n",
        "trainloader = DataLoader(trainset, batch_size=64, shuffle=True)\n",
        "testloader = DataLoader(testset, batch_size=64, shuffle=True)\n",
        "evalloader = DataLoader(testset, batch_size=1, shuffle=False)\n",
        "model = Network().to(device)\n",
        "criterion = nn.CrossEntropyLoss()\n",
        "optimizer = optim.Adam(model.parameters(), lr=0.001) # TODO: Experiment with different optimizer\n",
        "num_epoch = 10 # TODO: Choose an appropriate number of epochs\n",
        "\n",
        "def train(model, loader, num_epoch = 10): # Train the model\n",
        "    print(\"Start training...\")\n",
        "    model.train() # Set the model to training mode\n",
        "    for i in range(num_epoch):\n",
        "        running_loss = []\n",
        "        for batch, label in tqdm(loader):\n",
        "            batch = batch.to(device)\n",
        "            label = label.to(device)\n",
        "            optimizer.zero_grad() # Clear gradients from the previous iteration\n",
        "            pred = model(batch) # This will call Network.forward() that you implement\n",
        "            loss = criterion(pred, label) # Calculate the loss\n",
        "            running_loss.append(loss.item())\n",
        "            loss.backward() # Backprop gradients to all tensors in the network\n",
        "            optimizer.step() # Update trainable weights\n",
        "        print(\"Epoch {} loss:{}\".format(i+1,np.mean(running_loss))) # Print the average loss for this epoch\n",
        "    print(\"Done!\")\n",
        "\n",
        "def evaluate(model, loader, return_idx = False): # Evaluate accuracy on validation / test set\n",
        "    model.eval() # Set the model to evaluation mode\n",
        "    correct = 0\n",
        "    corr_index = -1\n",
        "    ind = 0\n",
        "    base_img = None\n",
        "    with torch.no_grad(): # Do not calculate grident to speed up computation\n",
        "        for batch, label in tqdm(loader):\n",
        "            batch = batch.to(device)\n",
        "            label = label.to(device)\n",
        "            pred = model(batch)\n",
        "            correct += (torch.argmax(pred,dim=1)==label).sum().item()\n",
        "            if return_idx and torch.argmax(pred[0]) == label[0] and corr_index == -1:\n",
        "                corr_index =  ind\n",
        "                base_img = batch[0]\n",
        "            ind = ind + 1\n",
        "    acc = correct/len(loader.dataset)\n",
        "    print(\"Evaluation accuracy: {}\".format(acc))\n",
        "    return acc,corr_index, base_img\n",
        "\n",
        "train(model, trainloader,num_epoch)\n",
        "torch.save(model.state_dict(), \"./model.pt\")\n",
        "\n",
        "# model = Network().to(device)\n",
        "# model.load_state_dict(torch.load(\"./model.pt\"))\n",
        "# model.eval()\n",
        "\n",
        "eval_acc,_,_ = evaluate(model, testloader,False)\n",
        "\n",
        "model.transfer() # Copy the weights from fc layer to 1x1 conv layer\n",
        "_,img_indx,base_img = evaluate(model, evalloader,True)\n",
        "base_img = base_img.reshape([1,base_img.shape[0],base_img.shape[1],base_img.shape[2]])\n",
        "# TODO: Choose a correctly classified image and visualize it\n",
        "img_idx = 0\n",
        "activation_layer = model.visualize(base_img)\n",
        "fig = plt.figure(figsize=(3, 6))\n",
        "plt.subplot(1, 11, 1)\n",
        "plt.imshow(Tensor.cpu(base_img).numpy().reshape([base_img.shape[2],base_img.shape[3]]))\n",
        "plt.title('Input Image', fontsize=16)\n",
        "plt.axis('off')\n",
        "\n",
        "plt.subplot(1, 11, 2)\n",
        "plt.imshow(Tensor.cpu(activation_layer.detach()).numpy()[0][0])\n",
        "plt.title('0', fontsize=16)\n",
        "plt.axis('off')\n",
        "\n",
        "plt.subplot(1, 11, 3)\n",
        "plt.imshow(Tensor.cpu(activation_layer.detach()).numpy()[0][1])\n",
        "plt.title('1', fontsize=16)\n",
        "plt.axis('off')\n",
        "\n",
        "plt.subplot(1, 11, 4)\n",
        "plt.imshow(Tensor.cpu(activation_layer.detach()).numpy()[0][2])\n",
        "plt.title('2', fontsize=16)\n",
        "plt.axis('off')\n",
        "\n",
        "plt.subplot(1, 11, 5)\n",
        "plt.imshow(Tensor.cpu(activation_layer.detach()).numpy()[0][3])\n",
        "plt.title('3', fontsize=16)\n",
        "plt.axis('off')\n",
        "\n",
        "plt.subplot(1, 11, 6)\n",
        "plt.imshow(Tensor.cpu(activation_layer.detach()).numpy()[0][4])\n",
        "plt.title('4', fontsize=16)\n",
        "plt.axis('off')\n",
        "\n",
        "plt.subplot(1, 11, 7)\n",
        "plt.imshow(Tensor.cpu(activation_layer.detach()).numpy()[0][5])\n",
        "plt.title('5', fontsize=16)\n",
        "plt.axis('off')\n",
        "\n",
        "plt.subplot(1, 11, 8)\n",
        "plt.imshow(Tensor.cpu(activation_layer.detach()).numpy()[0][6])\n",
        "plt.title('6', fontsize=16)\n",
        "plt.axis('off')\n",
        "\n",
        "plt.subplot(1, 11, 9)\n",
        "plt.imshow(Tensor.cpu(activation_layer.detach()).numpy()[0][7])\n",
        "plt.title('7', fontsize=16)\n",
        "plt.axis('off')\n",
        "\n",
        "plt.subplot(1, 11, 10)\n",
        "plt.imshow(Tensor.cpu(activation_layer.detach()).numpy()[0][8])\n",
        "plt.title('8', fontsize=16)\n",
        "plt.axis('off')\n",
        "\n",
        "plt.subplot(1, 11, 11)\n",
        "plt.imshow(Tensor.cpu(activation_layer.detach()).numpy()[0][9])\n",
        "plt.title('9', fontsize=16)\n",
        "plt.axis('off')\n",
        "\n",
        "\n",
        "plt.gcf().set_size_inches(18, 10)\n",
        "plt.show()\n",
        "fig.savefig('sample.png')\n"
      ],
      "execution_count": null,
      "outputs": [
        {
          "output_type": "stream",
          "name": "stdout",
          "text": [
            "Start training...\n"
          ]
        },
        {
          "output_type": "stream",
          "name": "stderr",
          "text": [
            "  0%|          | 0/938 [00:00<?, ?it/s]/usr/local/lib/python3.7/dist-packages/ipykernel_launcher.py:45: UserWarning: __floordiv__ is deprecated, and its behavior will change in a future version of pytorch. It currently rounds toward 0 (like the 'trunc' function NOT 'floor'). This results in incorrect rounding for negative values. To keep the current behavior, use torch.div(a, b, rounding_mode='trunc'), or for actual floor division, use torch.div(a, b, rounding_mode='floor').\n",
            "100%|██████████| 938/938 [01:30<00:00, 10.31it/s]\n"
          ]
        },
        {
          "output_type": "stream",
          "name": "stdout",
          "text": [
            "Epoch 1 loss:0.8461499744132638\n"
          ]
        },
        {
          "output_type": "stream",
          "name": "stderr",
          "text": [
            "100%|██████████| 938/938 [01:30<00:00, 10.34it/s]\n"
          ]
        },
        {
          "output_type": "stream",
          "name": "stdout",
          "text": [
            "Epoch 2 loss:0.37698866633464023\n"
          ]
        },
        {
          "output_type": "stream",
          "name": "stderr",
          "text": [
            "100%|██████████| 938/938 [01:31<00:00, 10.29it/s]\n"
          ]
        },
        {
          "output_type": "stream",
          "name": "stdout",
          "text": [
            "Epoch 3 loss:0.31245735217767484\n"
          ]
        },
        {
          "output_type": "stream",
          "name": "stderr",
          "text": [
            "100%|██████████| 938/938 [01:30<00:00, 10.38it/s]\n"
          ]
        },
        {
          "output_type": "stream",
          "name": "stdout",
          "text": [
            "Epoch 4 loss:0.27664327639728975\n"
          ]
        },
        {
          "output_type": "stream",
          "name": "stderr",
          "text": [
            "100%|██████████| 938/938 [01:30<00:00, 10.38it/s]\n"
          ]
        },
        {
          "output_type": "stream",
          "name": "stdout",
          "text": [
            "Epoch 5 loss:0.25128461801802426\n"
          ]
        },
        {
          "output_type": "stream",
          "name": "stderr",
          "text": [
            "100%|██████████| 938/938 [01:30<00:00, 10.34it/s]\n"
          ]
        },
        {
          "output_type": "stream",
          "name": "stdout",
          "text": [
            "Epoch 6 loss:0.23197485472776616\n"
          ]
        },
        {
          "output_type": "stream",
          "name": "stderr",
          "text": [
            "100%|██████████| 938/938 [01:30<00:00, 10.40it/s]\n"
          ]
        },
        {
          "output_type": "stream",
          "name": "stdout",
          "text": [
            "Epoch 7 loss:0.21556883100380522\n"
          ]
        },
        {
          "output_type": "stream",
          "name": "stderr",
          "text": [
            "100%|██████████| 938/938 [01:30<00:00, 10.42it/s]\n"
          ]
        },
        {
          "output_type": "stream",
          "name": "stdout",
          "text": [
            "Epoch 8 loss:0.20449976945943288\n"
          ]
        },
        {
          "output_type": "stream",
          "name": "stderr",
          "text": [
            "100%|██████████| 938/938 [01:30<00:00, 10.39it/s]\n"
          ]
        },
        {
          "output_type": "stream",
          "name": "stdout",
          "text": [
            "Epoch 9 loss:0.19200384813442287\n"
          ]
        },
        {
          "output_type": "stream",
          "name": "stderr",
          "text": [
            "100%|██████████| 938/938 [01:30<00:00, 10.37it/s]\n"
          ]
        },
        {
          "output_type": "stream",
          "name": "stdout",
          "text": [
            "Epoch 10 loss:0.17963902709652174\n",
            "Done!\n"
          ]
        },
        {
          "output_type": "stream",
          "name": "stderr",
          "text": [
            "100%|██████████| 157/157 [00:14<00:00, 10.63it/s]\n"
          ]
        },
        {
          "output_type": "stream",
          "name": "stdout",
          "text": [
            "Evaluation accuracy: 0.849\n"
          ]
        },
        {
          "output_type": "stream",
          "name": "stderr",
          "text": [
            "100%|██████████| 10000/10000 [00:47<00:00, 209.51it/s]\n"
          ]
        },
        {
          "output_type": "stream",
          "name": "stdout",
          "text": [
            "Evaluation accuracy: 0.849\n"
          ]
        },
        {
          "output_type": "display_data",
          "data": {
            "image/png": "[encoded data removed]",
            "text/plain": [
              "<Figure size 1296x720 with 11 Axes>"
            ]
          },
          "metadata": {
            "needs_background": "light"
          }
        }
      ]
    },
    {
      "cell_type": "markdown",
      "metadata": {
        "id": "BZ7jsZZdt0lq"
      },
      "source": [
        "## 3. Semantic Segmentation"
      ]
    },
    {
      "cell_type": "code",
      "metadata": {
        "id": "aVOhMKW8rV6Y"
      },
      "source": [
        "import os\n",
        "import time\n",
        "\n",
        "import cv2\n",
        "import matplotlib.pyplot as plt\n",
        "import numpy as np\n",
        "import png\n",
        "import torch\n",
        "import torch.nn as nn\n",
        "import torch.optim as optim\n",
        "import torchvision\n",
        "from colormap.colors import Color, hex2rgb\n",
        "from sklearn.metrics import average_precision_score as ap_score\n",
        "from torch.utils.data import DataLoader\n",
        "from torchvision import datasets, models, transforms\n",
        "from tqdm import tqdm\n",
        "\n",
        "from dataset import FacadeDataset\n",
        "\n",
        "N_CLASS=5\n",
        "\n",
        "class Net(nn.Module):\n",
        "    def __init__(self):\n",
        "        super(Net, self).__init__()\n",
        "        self.n_class = N_CLASS\n",
        "        self.layers = nn.Sequential(\n",
        "        initializer = tf.random_normal_initializer(0., 0.02)\n",
        "        result = tf.keras.Sequential()\n",
        "        result.add(tf.keras.layers.Conv2D(filters, size, strides=2, padding='same',\n",
        "                             kernel_initializer=initializer, use_bias=False))\n",
        "        if apply_batchnorm:\n",
        "          result.add(tf.keras.layers.BatchNormalization())\n",
        "        result.add(tf.keras.layers.LeakyReLU())\n",
        "        initializer = tf.random_normal_initializer(0., 0.02)\n",
        "        result = tf.keras.Sequential()\n",
        "        result.add(\n",
        "            tf.keras.layers.Conv2DTranspose(filters, size, strides=2, padding='same', kernel_initializer=initializer, use_bias=False))\n",
        "        result.add(tf.keras.layers.BatchNormalization())\n",
        "        result.add(tf.keras.layers.Dropout(0.5))\n",
        "        result.add(tf.keras.layers.ReLU())\n",
        "        inputs = tf.keras.layers.Input(shape=[256, 256, 3])    \n",
        "        down_stack = [\n",
        "          downsample(64, 4, apply_batchnorm=False),  \n",
        "          downsample(128, 4),                        \n",
        "          downsample(256, 4),                        \n",
        "          downsample(512, 4),                        \n",
        "          downsample(512, 4),                        \n",
        "          downsample(512, 4),                        \n",
        "          downsample(512, 4),                        \n",
        "          downsample(512, 4),                        \n",
        "        ]\n",
        "        up_stack = [\n",
        "          upsample(512, 4, apply_dropout=True),  \n",
        "          upsample(512, 4, apply_dropout=True),  \n",
        "          upsample(512, 4, apply_dropout=True),  \n",
        "          upsample(512, 4),                      \n",
        "          upsample(256, 4),                      \n",
        "          upsample(128, 4),                      \n",
        "          upsample(64, 4),                       \n",
        "        ]\n",
        "        initializer = tf.random_normal_initializer(0., 0.02)\n",
        "        last = tf.keras.layers.Conv2DTranspose(OUTPUT_CHANNELS, 4,strides=2, padding='same', kernel_initializer=initializer,activation='tanh')  # (bs, 256, 256, 3)\n",
        "        x = inputs\n",
        "        x = tf.keras.layers.Concatenate()([x, skip])\n",
        "        initializer = tf.random_normal_initializer(0., 0.02)\n",
        "        inp = tf.keras.layers.Input(shape=[256, 256, 3], name='input_image')\n",
        "        tar = tf.keras.layers.Input(shape=[256, 256, 3], name='target_image')\n",
        "        x = tf.keras.layers.concatenate([inp, tar])   \n",
        "        down1 = downsample(64, 4, False)(x) \n",
        "        down2 = downsample(128, 4)(down1) \n",
        "        down3 = downsample(256, 4)(down2) \n",
        "        zero_pad1 = tf.keras.layers.ZeroPadding2D()(down3)  \n",
        "        conv = tf.keras.layers.Conv2D(512, 4, strides=1, kernel_initializer=initializer,use_bias=False)(zero_pad1)\n",
        "        batchnorm1 = tf.keras.layers.BatchNormalization()(conv)\n",
        "        leaky_relu = tf.keras.layers.LeakyReLU()(batchnorm1)\n",
        "        zero_pad2 = tf.keras.layers.ZeroPadding2D()(leaky_relu)\n",
        "        last = tf.keras.layers.Conv2D(1, 4, strides=1, kernel_initializer=initializer)(zero_pad2) \n",
        "        x = self.layers(x)\n",
        "        return x\n",
        "\n",
        "def save_label(label, path):\n",
        "    colormap = [\n",
        "        '#000000',\n",
        "        '#0080FF',\n",
        "        '#80FF80',\n",
        "        '#FF8000',\n",
        "        '#FF0000',\n",
        "    ]\n",
        "    assert(np.max(label)<len(colormap))\n",
        "    colors = [hex2rgb(color, normalise=False) for color in colormap]\n",
        "    w = png.Writer(label.shape[1], label.shape[0], palette=colors, bitdepth=4)\n",
        "    with open(path, 'wb') as f:\n",
        "        w.write(f, label)\n",
        "\n",
        "def train(trainloader, net, criterion, optimizer, device, epoch):\n",
        "    start = time.time()\n",
        "    running_loss = 0.0\n",
        "    net = net.train()\n",
        "    for images, labels in tqdm(trainloader):\n",
        "        images = images.to(device)\n",
        "        labels = labels.to(device)\n",
        "        optimizer.zero_grad()\n",
        "        output = net(images)\n",
        "        loss = criterion(output, labels)\n",
        "        loss.backward()\n",
        "        optimizer.step()\n",
        "        running_loss = loss.item()\n",
        "    end = time.time()\n",
        "    print('[epoch %d] loss: %.3f elapsed time %.3f' %\n",
        "          (epoch, running_loss, end-start))\n",
        "\n",
        "def test(testloader, net, criterion, device):\n",
        "    losses = 0.\n",
        "    cnt = 0\n",
        "    with torch.no_grad():\n",
        "        net = net.eval()\n",
        "        for images, labels in tqdm(testloader):\n",
        "            images = images.to(device)\n",
        "            labels = labels.to(device)\n",
        "            output = net(images)\n",
        "            loss = criterion(output, labels)\n",
        "            losses += loss.item()\n",
        "            cnt += 1\n",
        "    print(losses / cnt)\n",
        "    return (losses/cnt)\n",
        "\n",
        "\n",
        "def cal_AP(testloader, net, criterion, device):\n",
        "    losses = 0.\n",
        "    cnt = 0\n",
        "    with torch.no_grad():\n",
        "        net = net.eval()\n",
        "        preds = [[] for _ in range(5)]\n",
        "        heatmaps = [[] for _ in range(5)]\n",
        "        for images, labels in tqdm(testloader):\n",
        "            images = images.to(device)\n",
        "            labels = labels.to(device)\n",
        "            output = net(images).cpu().numpy()\n",
        "            for c in range(5):\n",
        "                preds[c].append(output[:, c].reshape(-1))\n",
        "                heatmaps[c].append(labels[:, c].cpu().numpy().reshape(-1))\n",
        "\n",
        "        aps = []\n",
        "        for c in range(5):\n",
        "            preds[c] = np.concatenate(preds[c])\n",
        "            heatmaps[c] = np.concatenate(heatmaps[c])\n",
        "            if heatmaps[c].max() == 0:\n",
        "                ap = float('nan')\n",
        "            else:\n",
        "                ap = ap_score(heatmaps[c], preds[c])\n",
        "                aps.append(ap)\n",
        "            print(\"AP = {}\".format(ap))\n",
        "    return None\n",
        "\n",
        "\n",
        "def get_result(testloader, net, device, folder='output_train'):\n",
        "    result = []\n",
        "    cnt = 1\n",
        "    with torch.no_grad():\n",
        "        net = net.eval()\n",
        "        cnt = 0\n",
        "        for images, labels in tqdm(testloader):\n",
        "            images = images.to(device)\n",
        "            labels = labels.to(device)\n",
        "            output = net(images)[0].cpu().numpy()\n",
        "            c, h, w = output.shape\n",
        "            assert(c == N_CLASS)\n",
        "            y = np.zeros((h,w)).astype('uint8')\n",
        "            for i in range(N_CLASS):\n",
        "                mask = output[i]>0.5\n",
        "                y[mask] = i\n",
        "            gt = labels.cpu().data.numpy().squeeze(0).astype('uint8')\n",
        "            save_label(y, './{}/y{}.png'.format(folder, cnt))\n",
        "            save_label(gt, './{}/gt{}.png'.format(folder, cnt))\n",
        "            plt.imsave(\n",
        "                './{}/x{}.png'.format(folder, cnt),\n",
        "                ((images[0].cpu().data.numpy()+1)*128).astype(np.uint8).transpose(1,2,0))\n",
        "\n",
        "            cnt += 1\n",
        "\n",
        "def main():\n",
        "    device = torch.device(\"cuda:0\" if torch.cuda.is_available() else \"cpu\")\n",
        "    train_data = FacadeDataset(flag='train', data_range=(0,20), onehot=False)\n",
        "    train_loader = DataLoader(train_data, batch_size=1)\n",
        "    test_data = FacadeDataset(flag='test_dev', data_range=(0,114), onehot=False)\n",
        "    test_loader = DataLoader(test_data, batch_size=1)\n",
        "    ap_data = FacadeDataset(flag='test_dev', data_range=(0,114), onehot=True)\n",
        "    ap_loader = DataLoader(ap_data, batch_size=1)\n",
        "\n",
        "    name = 'starter_net'\n",
        "    net = Net().to(device)\n",
        "    criterion = nn.CrossEntropyLoss() #TODO decide loss\n",
        "    optimizer = torch.optim.Adam(net.parameters(), 1e-3, weight_decay=1e-5)\n",
        "\n",
        "    print('\\nStart training')\n",
        "    for epoch in range(10): #TODO decide epochs\n",
        "        print('-----------------Epoch = %d-----------------' % (epoch+1))\n",
        "        train(train_loader, net, criterion, optimizer, device, epoch+1)\n",
        "        # TODO create your evaluation set, load the evaluation set and test on evaluation set\n",
        "        evaluation_loader = train_loader\n",
        "        test(evaluation_loader, net, criterion, device)\n",
        "\n",
        "    print('\\nFinished Training, Testing on test set')\n",
        "    test(test_loader, net, criterion, device)\n",
        "    print('\\nGenerating Unlabeled Result')\n",
        "    result = get_result(test_loader, net, device, folder='output_test')\n",
        "\n",
        "    torch.save(net.state_dict(), './models/model_{}.pth'.format(name))\n",
        "\n",
        "    cal_AP(ap_loader, net, criterion, device)\n",
        "\n",
        "if __name__ == \"__main__\":\n",
        "    main()\n"
      ],
      "execution_count": null,
      "outputs": []
    }
  ]
}